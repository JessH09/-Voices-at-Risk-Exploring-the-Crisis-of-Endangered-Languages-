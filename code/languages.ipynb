{
 "cells": [
  {
   "cell_type": "code",
   "execution_count": null,
   "metadata": {},
   "outputs": [],
   "source": [
    "import os\n",
    "import pandas as pd\n",
    "from pathlib import Path\n"
   ]
  },
  {
   "cell_type": "code",
   "execution_count": null,
   "metadata": {},
   "outputs": [],
   "source": [
    "\n",
    " #designate the csv file data path\n",
    "data_load = Path ('Original_Dataset/data')\n",
    "\n",
    "# uniform language\n",
    "language_df = pd.read_csv(data_load,encoding=\"ISO-8859-1\")\n",
    "print(language_df).head()"
   ]
  }
 ],
 "metadata": {
  "language_info": {
   "name": "python"
  }
 },
 "nbformat": 4,
 "nbformat_minor": 2
}
